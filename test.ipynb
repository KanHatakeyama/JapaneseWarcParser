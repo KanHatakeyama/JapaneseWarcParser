{
 "cells": [
  {
   "cell_type": "code",
   "execution_count": 13,
   "metadata": {},
   "outputs": [],
   "source": [
    "%reload_ext autoreload\n",
    "%autoreload 2\n",
    "\n",
    "from src.file_utils import download_file, decompress_gz,make_dir\n",
    "import glob\n",
    "from warcio.archiveiterator import ArchiveIterator\n",
    "from bs4 import BeautifulSoup\n",
    "from tqdm import tqdm\n",
    "from src.parse_warc import extract_japanese_from_warc\n",
    "\n",
    "import json\n",
    "import gzip"
   ]
  },
  {
   "cell_type": "code",
   "execution_count": 14,
   "metadata": {},
   "outputs": [],
   "source": [
    "path=\"data/jap_dump/crawl-data_CC-MAIN-2023-50_segments_1700679099281.67_warc_CC-MAIN-20231128083443-20231128113443-00000.warc_jap.gz.gz\"\n",
    "# gzipで圧縮されたJSONファイルを読み込み\n",
    "with gzip.open(path, 'rt', encoding='utf-8') as f:\n",
    "    data_loaded = json.load(f)\n"
   ]
  },
  {
   "cell_type": "code",
   "execution_count": 59,
   "metadata": {},
   "outputs": [
    {
     "data": {
      "text/plain": [
       "'\\nfrom bunkai import Bunkai\\nbunkai = Bunkai()\\ndef parse_lines_bunkai(lines):\\n    lines = lines.strip().replace(\"\\n\", \"▁\")\\n    return bunkai(\"\".join(lines))\\n\\n'"
      ]
     },
     "execution_count": 59,
     "metadata": {},
     "output_type": "execute_result"
    }
   ],
   "source": [
    "\"\"\"\n",
    "from bunkai import Bunkai\n",
    "bunkai = Bunkai()\n",
    "def parse_lines_bunkai(lines):\n",
    "    lines = lines.strip().replace(\"\\n\", \"\\u2581\")\n",
    "    return bunkai(\"\".join(lines))\n",
    "\n",
    "\"\"\""
   ]
  },
  {
   "cell_type": "code",
   "execution_count": 100,
   "metadata": {},
   "outputs": [
    {
     "name": "stdout",
     "output_type": "stream",
     "text": [
      "お問い合わせ\n",
      "同一のユーザが1日の間に何ページ読み込もうと、ユニークカウント(ビジット数)は1と数える方法。実際の閲覧ユーザ数に近い人数を数える事ができます。\n",
      "お天気ガイド\n",
      "過去のリンク集\n",
      "です。ご覧になりたい地域をクリックしてください。\n",
      "ご自分の、または、お勧めのホームページを登録したり\n",
      "掲示板に記事を投稿したりするには、まず、\n",
      "をしてください(無料)。\n",
      "詳しい登録方法は\n",
      "。※このページは古い過去の情報ですので修正・削除などメンテナンスされていません。\n",
      "リンク切れ等ご了承下さい。新しい情報は\n",
      "www-staff@(this-server), 2003/07/26.※このページは古い過去の情報ですので修正・削除などメンテナンスされていません。\n",
      "※このページは古い過去の情報ですので修正・削除などメンテナンスされていません。\n"
     ]
    }
   ],
   "source": [
    "from src.cleaner.auto_filter import do_filter\n",
    "from src.cleaner.text_normalizer import normalize\n",
    "\n",
    "lines=data_loaded[20][\"text\"]\n",
    "lines=[i[0] for i in lines]\n",
    "text=\"\".join(lines)\n",
    "\n",
    "\n",
    "# 文末記号のリスト（全角と半角）\n",
    "sentence_endings = ['。', '！', '？', '.', '!', '?',\"．\"]\n",
    "touten_symbols=[\"､\",\",\",\"，\",\"、\"]\n",
    "\n",
    "def is_sentence_ending(text):\n",
    "    \"\"\"指定された文字が文末記号かどうかを判断する\"\"\"\n",
    "    return text[-1] in sentence_endings\n",
    "\n",
    "# 結果を格納するリスト\n",
    "\n",
    "grouped_lines=[]\n",
    "\n",
    "temp_text=\"\"\n",
    "old_line=\"\"\n",
    "for line in lines:\n",
    "    line=normalize(line) #文字の正規化\n",
    "\n",
    "    #重複行は削除\n",
    "    if line==old_line:\n",
    "        old_line=line\n",
    "        continue\n",
    "\n",
    "    old_line=line\n",
    "\n",
    "    if old_line[-1] in touten_symbols:\n",
    "        temp_text+=line\n",
    "        #print(temp_text)\n",
    "        continue\n",
    "\n",
    "    # ｡ などで終わらないlineの場合は､改行する\n",
    "    if not is_sentence_ending(line):\n",
    "        if temp_text!=\"\":\n",
    "            grouped_lines.append(temp_text)\n",
    "            #print(temp_text)\n",
    "        temp_text=\"\"\n",
    "        grouped_lines.append(line)\n",
    "        #print(line)\n",
    "\n",
    "    else:\n",
    "        temp_text+=line\n",
    "    #if not is_sentence_ending(temp_text):\n",
    "    #    grouped_lines.append(temp_text)\n",
    "    #    temp_text=\"\"\n",
    "\n",
    "text=\"\\n\".join(grouped_lines)\n",
    "text=do_filter(text)\n",
    "print(text)\n",
    "\n",
    "\n",
    "#TODO: まず、  をしてください(無料)。 のようになってしまう"
   ]
  },
  {
   "cell_type": "code",
   "execution_count": 98,
   "metadata": {},
   "outputs": [
    {
     "data": {
      "text/plain": [
       "True"
      ]
     },
     "execution_count": 98,
     "metadata": {},
     "output_type": "execute_result"
    }
   ],
   "source": [
    "line=\"まず、\"\n",
    "line[-1] in touten_symbols"
   ]
  },
  {
   "cell_type": "code",
   "execution_count": 90,
   "metadata": {},
   "outputs": [
    {
     "data": {
      "text/plain": [
       "'、'"
      ]
     },
     "execution_count": 90,
     "metadata": {},
     "output_type": "execute_result"
    }
   ],
   "source": [
    "line[-1]"
   ]
  },
  {
   "cell_type": "code",
   "execution_count": null,
   "metadata": {},
   "outputs": [],
   "source": []
  }
 ],
 "metadata": {
  "kernelspec": {
   "display_name": "qcl",
   "language": "python",
   "name": "python3"
  },
  "language_info": {
   "codemirror_mode": {
    "name": "ipython",
    "version": 3
   },
   "file_extension": ".py",
   "mimetype": "text/x-python",
   "name": "python",
   "nbconvert_exporter": "python",
   "pygments_lexer": "ipython3",
   "version": "3.12.1"
  }
 },
 "nbformat": 4,
 "nbformat_minor": 2
}
