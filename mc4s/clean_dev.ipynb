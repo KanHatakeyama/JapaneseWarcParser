{
 "cells": [
  {
   "cell_type": "code",
   "execution_count": 2,
   "metadata": {},
   "outputs": [
    {
     "name": "stderr",
     "output_type": "stream",
     "text": [
      "/home/user/miniconda3/envs/crawl/lib/python3.12/site-packages/tqdm/auto.py:21: TqdmWarning: IProgress not found. Please update jupyter and ipywidgets. See https://ipywidgets.readthedocs.io/en/stable/user_install.html\n",
      "  from .autonotebook import tqdm as notebook_tqdm\n",
      "/home/user/miniconda3/envs/crawl/lib/python3.12/site-packages/datasets/load.py:1454: FutureWarning: The repository for mc4 contains custom code which must be executed to correctly load the dataset. You can inspect the repository content at https://hf.co/datasets/mc4\n",
      "You can avoid this message in future by passing the argument `trust_remote_code=True`.\n",
      "Passing `trust_remote_code=True` will be mandatory to load this dataset from the next major release of `datasets`.\n",
      "  warnings.warn(\n"
     ]
    }
   ],
   "source": [
    "%reload_ext autoreload\n",
    "%autoreload 2\n",
    "from datasets import load_dataset\n",
    "\n",
    "\n",
    "#mc4の読み込み\n",
    "mc4_dataset = load_dataset('mc4', 'ja',split='train', streaming=True)\n",
    "\n",
    "\"\"\"\n",
    "#oscarなども読み込める\n",
    "#ignore_verifications=Trueをつけないとエラーとなる\n",
    "oscar_dataset = load_dataset('oscar', 'unshuffled_original_ja', \n",
    "                       split='train', \n",
    "                       ignore_verifications=True,\n",
    "                       streaming=True)\n",
    "\n",
    "\"\"\"\n",
    "\n",
    "dataset=mc4_dataset"
   ]
  },
  {
   "cell_type": "code",
   "execution_count": 3,
   "metadata": {},
   "outputs": [],
   "source": [
    "from src.cleaner.auto_cleaner import clean_text\n",
    "from src.classifier.DatasetAnnotator import DatasetAnnotator"
   ]
  },
  {
   "cell_type": "code",
   "execution_count": 4,
   "metadata": {},
   "outputs": [
    {
     "name": "stdout",
     "output_type": "stream",
     "text": [
      "[Errno 2] No such file or directory: 'annotations/good.txt'\n"
     ]
    }
   ],
   "source": [
    "annotator=DatasetAnnotator(dataset,clean_func=clean_text)"
   ]
  },
  {
   "cell_type": "code",
   "execution_count": 9,
   "metadata": {},
   "outputs": [],
   "source": [
    "import random\n",
    "#random annotations\n",
    "max_id=10000\n",
    "\n",
    "\"\"\"\n",
    "do annotations\n",
    "Enter: annnotate as \"bad\"\n",
    "something: annotate as \"good\"\n",
    "q: quit\n",
    "\"\"\"\n",
    "for i in range(300):\n",
    "    id=random.randint(0,max_id)\n",
    "    r=annotator.annotate(id)\n",
    "    if not r:\n",
    "        break"
   ]
  },
  {
   "cell_type": "code",
   "execution_count": 7,
   "metadata": {},
   "outputs": [
    {
     "data": {
      "text/plain": [
       "'まさる0798さん\\nキッチンで使っています!\\n組み立てだけど、グラグラもしずしっかりしています。\\n小さくて丁度いい。\\nなかなか小さいデスクが見つからなかったので、買って良かったです。\\n組み立ては一時間、電動ドリルを使いました。\\nサイズはとても小さいので便利です。塗装はナチュラルなので天板はざらつきがあります。\\n色が実際にはかなり濃く感じました。白が廃盤じゃなければよかったのですが、色はほぼこげ茶です。\\n作るのが大変過ぎました...。\\nドライバーは持っていましたがネジを入れようと思っても硬すぎて硬すぎて...。\\nなんとかネジを回し切りましたが、手にマメができかけました。\\n【お店へのアドバイス】\\nよく付属品である先が六角の回すやつ(へ←こんな形のやつ)の先がプラスドライバーのやつを付属した方が良いと思います。\\n木なのでかなり固く、回すのが大変という点は前もって通知しておいた方がお客さんの為になるかと思います。\\n完成した物については全く不満はありません。\\nしっかりとした造りで色合いも良く気に入っています。\\n【購入を検討している方、購入して組立がまだの方へ】\\n足を下に入れることを考えると、下の台は上の方の穴で固定した方が良いと思います。\\n上で固定してもスペースはかごなどを入れない限り全然あります。\\nまた、上記の通り一度固定すると変更は容易ではないので気を付けてください。\\n昔のテレビ台とか本棚みたいに、突起の上に乗せる形で下の台の位置を変えれたらいいんですけどね。'"
      ]
     },
     "execution_count": 7,
     "metadata": {},
     "output_type": "execute_result"
    }
   ],
   "source": [
    "annotator.get_text_by_id(1283)"
   ]
  },
  {
   "cell_type": "code",
   "execution_count": null,
   "metadata": {},
   "outputs": [],
   "source": []
  }
 ],
 "metadata": {
  "kernelspec": {
   "display_name": "crawl",
   "language": "python",
   "name": "python3"
  },
  "language_info": {
   "codemirror_mode": {
    "name": "ipython",
    "version": 3
   },
   "file_extension": ".py",
   "mimetype": "text/x-python",
   "name": "python",
   "nbconvert_exporter": "python",
   "pygments_lexer": "ipython3",
   "version": "3.12.1"
  }
 },
 "nbformat": 4,
 "nbformat_minor": 2
}
